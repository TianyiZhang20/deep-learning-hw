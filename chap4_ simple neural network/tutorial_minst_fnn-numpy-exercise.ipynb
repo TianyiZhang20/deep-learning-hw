{
 "cells": [
  {
   "cell_type": "markdown",
   "metadata": {},
   "source": [
    "## 准备数据"
   ]
  },
  {
   "cell_type": "code",
   "execution_count": 62,
   "metadata": {},
   "outputs": [],
   "source": [
    "import numpy as np\n",
    "import torch\n",
    "import torchvision\n",
    "from torch.utils.data import DataLoader\n",
    "\n",
    "def mnist_dataset():\n",
    "    train_data = torchvision.datasets.MNIST('./data/', train=True, download=True)\n",
    "    test_data = torchvision.datasets.MNIST('./data/', train=False, download=True)\n",
    "    train_data = [train_data.data.detach().numpy()/255.0, train_data.targets.detach().numpy()]\n",
    "    test_data = [test_data.data.detach().numpy()/255.0, test_data.targets.detach().numpy()]\n",
    "    return train_data, test_data"
   ]
  },
  {
   "cell_type": "markdown",
   "metadata": {},
   "source": [
    "## Demo numpy based auto differentiation"
   ]
  },
  {
   "cell_type": "code",
   "execution_count": 63,
   "metadata": {},
   "outputs": [],
   "source": [
    "import numpy as np\n",
    "\n",
    "class Matmul:\n",
    "    def __init__(self):\n",
    "        self.mem = {}\n",
    "        \n",
    "    def forward(self, x, W):\n",
    "        h = np.matmul(x, W)\n",
    "        self.mem={'x': x, 'W':W}\n",
    "        return h\n",
    "    \n",
    "    def backward(self, grad_y):\n",
    "        '''\n",
    "        x: shape(N, d)\n",
    "        w: shape(d, d')\n",
    "        grad_y: shape(N, d')\n",
    "        '''\n",
    "        x = self.mem['x']\n",
    "        W = self.mem['W']\n",
    "        # FILL IN HERE\n",
    "        grad_x = grad_y.dot(W.T)\n",
    "        grad_W = x.T.dot(grad_y)\n",
    "        return grad_x, grad_W\n",
    "\n",
    "\n",
    "class Relu:\n",
    "    def __init__(self):\n",
    "        self.mem = {}\n",
    "        \n",
    "    def forward(self, x):\n",
    "        self.mem['x']=x\n",
    "        return np.where(x > 0, x, np.zeros_like(x))\n",
    "    \n",
    "    def backward(self, grad_y):\n",
    "        '''\n",
    "        grad_y: same shape as x\n",
    "        '''\n",
    "        # FILL IN HERE\n",
    "        x = self.mem['x']\n",
    "        grad_x = np.where(x > 0, grad_y, np.zeros_like(x))\n",
    "        return grad_x\n",
    "    \n",
    "\n",
    "\n",
    "class Softmax:\n",
    "    '''\n",
    "    softmax over last dimention\n",
    "    '''\n",
    "    def __init__(self):\n",
    "        self.epsilon = 1e-12\n",
    "        self.mem = {}\n",
    "        \n",
    "    def forward(self, x):\n",
    "        '''\n",
    "        x: shape(N, c)\n",
    "        '''\n",
    "        x_exp = np.exp(x)\n",
    "        partition = np.sum(x_exp, axis=1, keepdims=True)\n",
    "        out = x_exp/(partition+self.epsilon)\n",
    "        self.mem['out'] = out\n",
    "        self.mem['x_exp'] = x_exp\n",
    "        return out\n",
    "    \n",
    "    def backward(self, grad_y):\n",
    "        '''\n",
    "        grad_y: same shape as x\n",
    "        '''\n",
    "        s = self.mem['out']\n",
    "        sisj = np.matmul(np.expand_dims(s,axis=2), np.expand_dims(s, axis=1)) # (N, c, c)\n",
    "        g_y_exp = np.expand_dims(grad_y, axis=1)\n",
    "        tmp = np.matmul(g_y_exp, sisj) #(N, 1, c)\n",
    "        tmp = np.squeeze(tmp, axis=1)\n",
    "        tmp = -tmp+grad_y*s \n",
    "        return tmp\n",
    "    \n",
    "class Log:\n",
    "    '''\n",
    "    softmax over last dimention\n",
    "    '''\n",
    "    def __init__(self):\n",
    "        self.epsilon = 1e-12\n",
    "        self.mem = {}\n",
    "        \n",
    "    def forward(self, x):\n",
    "        '''\n",
    "        x: shape(N, c)\n",
    "        '''\n",
    "        out = np.log(x+self.epsilon)\n",
    "        \n",
    "        self.mem['x'] = x\n",
    "        return out\n",
    "    \n",
    "    def backward(self, grad_y):\n",
    "        '''\n",
    "        grad_y: same shape as x\n",
    "        '''\n",
    "        x = self.mem['x']\n",
    "        \n",
    "        return 1./(x+1e-12) * grad_y\n",
    "    \n"
   ]
  },
  {
   "cell_type": "markdown",
   "metadata": {},
   "source": [
    "## Gradient check"
   ]
  },
  {
   "cell_type": "code",
   "execution_count": 64,
   "metadata": {},
   "outputs": [
    {
     "name": "stdout",
     "output_type": "stream",
     "text": [
      "tensor([[True, True, True, True, True, True],\n",
      "        [True, True, True, True, True, True],\n",
      "        [True, True, True, True, True, True],\n",
      "        [True, True, True, True, True, True],\n",
      "        [True, True, True, True, True, True]])\n",
      "tensor([[True, True, True, True],\n",
      "        [True, True, True, True],\n",
      "        [True, True, True, True],\n",
      "        [True, True, True, True],\n",
      "        [True, True, True, True],\n",
      "        [True, True, True, True]])\n"
     ]
    }
   ],
   "source": [
    "# Check Matmul()\n",
    "import torch.nn as nn\n",
    "\n",
    "x = np.random.normal(size=[5, 6])\n",
    "W = np.random.normal(size=[6, 4])\n",
    "aa = Matmul()\n",
    "out = aa.forward(x, W) # shape(5, 4)\n",
    "grad = aa.backward(np.ones_like(out))\n",
    "\n",
    "x, W = torch.tensor(x, requires_grad=True), torch.tensor(W, requires_grad=True)\n",
    "y = x.mm(W)\n",
    "loss = y.sum()\n",
    "loss.backward()\n",
    "print((x.grad - torch.tensor(grad[0]))**2<1e-3, (W.grad - torch.tensor(grad[1]))**2<1e-3, sep='\\n')"
   ]
  },
  {
   "cell_type": "code",
   "execution_count": 65,
   "metadata": {},
   "outputs": [
    {
     "name": "stdout",
     "output_type": "stream",
     "text": [
      "[[1. 0. 1. 0. 1. 0.]\n",
      " [0. 0. 1. 0. 0. 1.]\n",
      " [1. 1. 1. 1. 1. 1.]\n",
      " [0. 0. 1. 1. 0. 1.]\n",
      " [1. 1. 0. 0. 1. 0.]]\n",
      "tensor([[True, True, True, True, True, True],\n",
      "        [True, True, True, True, True, True],\n",
      "        [True, True, True, True, True, True],\n",
      "        [True, True, True, True, True, True],\n",
      "        [True, True, True, True, True, True]])\n"
     ]
    }
   ],
   "source": [
    "# Check ReLU()\n",
    "x = np.random.normal(size=[5, 6])\n",
    "aa = Relu()\n",
    "out = aa.forward(x) # shape(5, 4)\n",
    "grad = aa.backward(np.ones_like(out))\n",
    "print (grad)\n",
    "\n",
    "relu = nn.ReLU()\n",
    "\n",
    "x = torch.tensor(x, requires_grad=True)\n",
    "loss = relu(x).sum()\n",
    "loss.backward()\n",
    "print((x.grad - torch.tensor(grad))**2<1e-3)"
   ]
  },
  {
   "cell_type": "code",
   "execution_count": 66,
   "metadata": {},
   "outputs": [
    {
     "name": "stdout",
     "output_type": "stream",
     "text": [
      "[[0. 1. 0. 0. 0. 0.]\n",
      " [1. 1. 0. 0. 0. 0.]\n",
      " [0. 0. 0. 1. 0. 0.]\n",
      " [0. 0. 0. 0. 0. 1.]\n",
      " [1. 0. 0. 0. 0. 0.]]\n",
      "[[-2.87401404e-04  2.32522338e-02 -4.15491845e-05 -2.22738597e-02\n",
      "  -2.28699139e-04 -4.20724324e-04]\n",
      " [ 3.17338384e-03  5.98030893e-08 -1.99841628e-04 -1.91661442e-03\n",
      "  -1.04547486e-03 -1.15127382e-05]\n",
      " [-2.81105445e-08 -8.35164746e-07 -1.07322766e-08  1.02315159e-05\n",
      "  -3.10737589e-06 -6.25013242e-06]\n",
      " [-4.56302065e-02 -1.08284833e-06 -1.15368347e-02 -2.49641161e-04\n",
      "  -1.47851800e-05  5.74325504e-02]\n",
      " [ 1.54333069e-01 -7.43609129e-04 -1.42308577e-01 -5.41134827e-03\n",
      "  -2.55296606e-04 -5.61423846e-03]]\n",
      "tensor([[True, True, True, True, True, True],\n",
      "        [True, True, True, True, True, True],\n",
      "        [True, True, True, True, True, True],\n",
      "        [True, True, True, True, True, True],\n",
      "        [True, True, True, True, True, True]])\n"
     ]
    }
   ],
   "source": [
    "# Check Softmax\n",
    "x = np.random.normal(size=[5, 6], scale=5.0, loc=1)\n",
    "label = np.zeros_like(x)\n",
    "label[0, 1]=1.\n",
    "label[1, 0]=1\n",
    "label[1, 1]=1\n",
    "label[2, 3]=1\n",
    "label[3, 5]=1\n",
    "label[4, 0]=1\n",
    "print(label)\n",
    "aa = Softmax()\n",
    "out = aa.forward(x) # shape(5, 6)\n",
    "grad = aa.backward(label)\n",
    "print (grad)\n",
    "\n",
    "softmax = nn.Softmax(dim=-1)\n",
    "\n",
    "x = torch.tensor(x, requires_grad=True)\n",
    "y = softmax(x)\n",
    "loss = (torch.tensor(label) * y).sum()\n",
    "loss.backward()\n",
    "print((x.grad - torch.tensor(grad))**2<1e-3)"
   ]
  },
  {
   "cell_type": "code",
   "execution_count": 67,
   "metadata": {},
   "outputs": [
    {
     "name": "stdout",
     "output_type": "stream",
     "text": [
      "[[ 0.         -1.90761041  0.         -0.         -0.         -0.        ]\n",
      " [-1.04898531 -2.87090454 -0.          0.          0.          0.        ]\n",
      " [-0.          0.         -0.          0.51745855  0.          0.        ]\n",
      " [ 0.          0.         -0.          0.          0.          1.53038509]\n",
      " [-0.97192884  0.          0.         -0.         -0.          0.        ]]\n",
      "tensor([[True, True, True, True, True, True],\n",
      "        [True, True, True, True, True, True],\n",
      "        [True, True, True, True, True, True],\n",
      "        [True, True, True, True, True, True],\n",
      "        [True, True, True, True, True, True]])\n"
     ]
    },
    {
     "name": "stderr",
     "output_type": "stream",
     "text": [
      "C:\\Users\\张天一\\AppData\\Local\\Temp\\ipykernel_19772\\2065950172.py:88: RuntimeWarning: invalid value encountered in log\n",
      "  out = np.log(x+self.epsilon)\n"
     ]
    }
   ],
   "source": [
    "# Check Log\n",
    "x = np.random.normal(size=[5, 6])\n",
    "aa = Log()\n",
    "out = aa.forward(x) # shape(5, 4)\n",
    "grad = aa.backward(label)\n",
    "print (grad)\n",
    "\n",
    "x = torch.tensor(x, requires_grad=True)\n",
    "y = torch.log_(x + 1e-10)\n",
    "loss = (torch.tensor(label) * y).sum()\n",
    "loss.backward()\n",
    "print((x.grad - torch.tensor(grad))**2<1e-3)"
   ]
  },
  {
   "cell_type": "markdown",
   "metadata": {},
   "source": [
    "# Final Gradient Check"
   ]
  },
  {
   "cell_type": "code",
   "execution_count": 68,
   "metadata": {},
   "outputs": [
    {
     "name": "stdout",
     "output_type": "stream",
     "text": [
      "[[ 0.00475074 -0.29924499 -0.13586521 -1.11082878  0.94324042]\n",
      " [ 0.87672573  0.53554158 -0.26349355 -0.68065352 -1.35321778]\n",
      " [ 0.67019987 -1.45276741  0.2873168   1.85739209 -1.87460072]\n",
      " [-1.14652132  1.04477673  0.19311893  1.02762317 -0.34878546]\n",
      " [ 0.14224971 -0.75947043  0.12755101 -0.01343931  0.42039601]\n",
      " [ 1.06268463  0.54506015  0.10691023  1.02909316 -1.64630779]]\n",
      "----------------------------------------\n",
      "tensor([[ 0.0048, -0.2992, -0.1359, -1.1108,  0.9432],\n",
      "        [ 0.8767,  0.5355, -0.2635, -0.6807, -1.3532],\n",
      "        [ 0.6702, -1.4528,  0.2873,  1.8574, -1.8746],\n",
      "        [-1.1465,  1.0448,  0.1931,  1.0276, -0.3488],\n",
      "        [ 0.1422, -0.7595,  0.1276, -0.0134,  0.4204],\n",
      "        [ 1.0627,  0.5451,  0.1069,  1.0291, -1.6463]], dtype=torch.float64)\n"
     ]
    }
   ],
   "source": [
    "label = np.zeros_like(x.detach().numpy())\n",
    "label[0, 1]=1.\n",
    "label[1, 0]=1\n",
    "label[2, 3]=1\n",
    "label[3, 5]=1\n",
    "label[4, 0]=1\n",
    "\n",
    "x = np.random.normal(size=[5, 6])\n",
    "W1 = np.random.normal(size=[6, 5])\n",
    "W2 = np.random.normal(size=[5, 6])\n",
    "\n",
    "mul_h1 = Matmul()\n",
    "mul_h2 = Matmul()\n",
    "relu = Relu()\n",
    "softmax = Softmax()\n",
    "log = Log()\n",
    "\n",
    "h1 = mul_h1.forward(x, W1) # shape(5, 4)\n",
    "h1_relu = relu.forward(h1)\n",
    "h2 = mul_h2.forward(h1_relu, W2)\n",
    "h2_soft = softmax.forward(h2)\n",
    "h2_log = log.forward(h2_soft)\n",
    "\n",
    "\n",
    "h2_log_grad = log.backward(label)\n",
    "h2_soft_grad = softmax.backward(h2_log_grad)\n",
    "h2_grad, W2_grad = mul_h2.backward(h2_soft_grad)\n",
    "h1_relu_grad = relu.backward(h2_grad)\n",
    "h1_grad, W1_grad = mul_h1.backward(h1_relu_grad)\n",
    "\n",
    "print(W1_grad)\n",
    "print('--'*20)\n",
    "\n",
    "x = torch.tensor(x)\n",
    "W1 = torch.tensor(W1, requires_grad=True)\n",
    "W2 = torch.tensor(W2, requires_grad=True)\n",
    "label =  torch.tensor(label)\n",
    "\n",
    "relu1 = nn.ReLU()\n",
    "softmax = nn.Softmax(dim=-1)\n",
    "\n",
    "h1 = x.mm(W1)\n",
    "h1_relu = relu1(h1)\n",
    "h2 = h1_relu.mm(W2)\n",
    "prob = softmax(h2)\n",
    "log_prob = torch.log(prob)\n",
    "loss = (log_prob * label).sum()\n",
    "loss.backward()\n",
    "print(W1.grad)\n",
    "# Pytorch无法直接获取中间结果的梯度，因此选用最开始的W1梯度作比较，相同则证明反向传递链条无误。"
   ]
  },
  {
   "cell_type": "markdown",
   "metadata": {},
   "source": [
    "## 建立模型"
   ]
  },
  {
   "cell_type": "code",
   "execution_count": 69,
   "metadata": {},
   "outputs": [],
   "source": [
    "class myModel:\n",
    "    def __init__(self):\n",
    "        \n",
    "        self.W1 = np.random.normal(size=[28*28+1, 100])\n",
    "        self.W2 = np.random.normal(size=[100, 10])\n",
    "        \n",
    "        self.mul_h1 = Matmul()\n",
    "        self.mul_h2 = Matmul()\n",
    "        self.relu = Relu()\n",
    "        self.softmax = Softmax()\n",
    "        self.log = Log()\n",
    "        \n",
    "        \n",
    "    def forward(self, x):\n",
    "        x = x.reshape(-1, 28*28)\n",
    "        bias = np.ones(shape=[x.shape[0], 1])\n",
    "        x = np.concatenate([x, bias], axis=1)\n",
    "        \n",
    "        self.h1 = self.mul_h1.forward(x, self.W1) # shape(5, 4)\n",
    "        self.h1_relu = self.relu.forward(self.h1)\n",
    "        self.h2 = self.mul_h2.forward(self.h1_relu, self.W2)\n",
    "        self.h2_soft = self.softmax.forward(self.h2)\n",
    "        self.h2_log = self.log.forward(self.h2_soft)\n",
    "            \n",
    "    def backward(self, label):\n",
    "        self.h2_log_grad = self.log.backward(-label)\n",
    "        self.h2_soft_grad = self.softmax.backward(self.h2_log_grad)\n",
    "        self.h2_grad, self.W2_grad = self.mul_h2.backward(self.h2_soft_grad)\n",
    "        self.h1_relu_grad = self.relu.backward(self.h2_grad)\n",
    "        self.h1_grad, self.W1_grad = self.mul_h1.backward(self.h1_relu_grad)\n",
    "        \n",
    "model = myModel()\n"
   ]
  },
  {
   "cell_type": "markdown",
   "metadata": {},
   "source": [
    "## 计算 loss"
   ]
  },
  {
   "cell_type": "code",
   "execution_count": 70,
   "metadata": {},
   "outputs": [],
   "source": [
    "def compute_loss(log_prob, labels):\n",
    "     return np.mean(np.sum(-log_prob*labels, axis=1))\n",
    "    \n",
    "\n",
    "def compute_accuracy(log_prob, labels):\n",
    "    predictions = np.argmax(log_prob, axis=1)\n",
    "    truth = np.argmax(labels, axis=1)\n",
    "    return np.mean(predictions==truth)\n",
    "\n",
    "def train_one_step(model, x, y):\n",
    "    lr = 1e-5\n",
    "    model.forward(x)\n",
    "    model.backward(y)\n",
    "    model.W1 -= lr* model.W1_grad\n",
    "    model.W2 -= lr* model.W2_grad\n",
    "    loss = compute_loss(model.h2_log, y)\n",
    "    accuracy = compute_accuracy(model.h2_log, y)\n",
    "    return loss, accuracy\n",
    "\n",
    "def test(model, x, y):\n",
    "    model.forward(x)\n",
    "    loss = compute_loss(model.h2_log, y)\n",
    "    accuracy = compute_accuracy(model.h2_log, y)\n",
    "    return loss, accuracy"
   ]
  },
  {
   "cell_type": "markdown",
   "metadata": {},
   "source": [
    "## 实际训练"
   ]
  },
  {
   "cell_type": "code",
   "execution_count": 72,
   "metadata": {},
   "outputs": [
    {
     "name": "stdout",
     "output_type": "stream",
     "text": [
      "epoch 0 : loss 16.42098832465115 ; accuracy 0.3424833333333333\n",
      "epoch 1 : loss 14.742062529605798 ; accuracy 0.4037\n",
      "epoch 2 : loss 13.954191072458672 ; accuracy 0.4263166666666667\n",
      "epoch 3 : loss 13.701146372425942 ; accuracy 0.4439166666666667\n",
      "epoch 4 : loss 12.741220838790587 ; accuracy 0.467\n",
      "epoch 5 : loss 12.668149346197305 ; accuracy 0.47868333333333335\n",
      "epoch 6 : loss 11.770831172213583 ; accuracy 0.5042666666666666\n",
      "epoch 7 : loss 11.873352036788196 ; accuracy 0.5107166666666667\n",
      "epoch 8 : loss 11.030306485745625 ; accuracy 0.5381\n",
      "epoch 9 : loss 11.008182763373659 ; accuracy 0.54085\n",
      "epoch 10 : loss 10.54640524708077 ; accuracy 0.5608\n",
      "epoch 11 : loss 10.353594095679497 ; accuracy 0.5675333333333333\n",
      "epoch 12 : loss 9.975575656166471 ; accuracy 0.5850833333333333\n",
      "epoch 13 : loss 9.825150933861048 ; accuracy 0.589\n",
      "epoch 14 : loss 9.707710833554012 ; accuracy 0.5965666666666667\n",
      "epoch 15 : loss 9.949793606936263 ; accuracy 0.5849333333333333\n",
      "epoch 16 : loss 10.023168622384894 ; accuracy 0.58785\n",
      "epoch 17 : loss 9.258860264506346 ; accuracy 0.61355\n",
      "epoch 18 : loss 9.225239659043062 ; accuracy 0.6155166666666667\n",
      "epoch 19 : loss 9.148334440430258 ; accuracy 0.61675\n",
      "epoch 20 : loss 9.17223135748679 ; accuracy 0.6152333333333333\n",
      "epoch 21 : loss 8.994592913481572 ; accuracy 0.6166666666666667\n",
      "epoch 22 : loss 8.922559517601494 ; accuracy 0.6169\n",
      "epoch 23 : loss 8.376632157779031 ; accuracy 0.63445\n",
      "epoch 24 : loss 8.209043782704319 ; accuracy 0.6421\n",
      "epoch 25 : loss 7.827044784520846 ; accuracy 0.6566166666666666\n",
      "epoch 26 : loss 7.661806167621124 ; accuracy 0.6636333333333333\n",
      "epoch 27 : loss 7.343710026684556 ; accuracy 0.6765333333333333\n",
      "epoch 28 : loss 7.206713868666586 ; accuracy 0.6819166666666666\n",
      "epoch 29 : loss 6.987184282549209 ; accuracy 0.6909333333333333\n",
      "epoch 30 : loss 6.843444795977748 ; accuracy 0.6973\n",
      "epoch 31 : loss 6.797509280305492 ; accuracy 0.6990333333333333\n",
      "epoch 32 : loss 6.734747522393976 ; accuracy 0.7024333333333334\n",
      "epoch 33 : loss 6.819439941891827 ; accuracy 0.6982666666666667\n",
      "epoch 34 : loss 6.792844537032149 ; accuracy 0.7017166666666667\n",
      "epoch 35 : loss 6.4433573443605425 ; accuracy 0.7153666666666667\n",
      "epoch 36 : loss 6.415982974032404 ; accuracy 0.7148833333333333\n",
      "epoch 37 : loss 6.248028079296534 ; accuracy 0.7232166666666666\n",
      "epoch 38 : loss 6.258875035010982 ; accuracy 0.72115\n",
      "epoch 39 : loss 6.139488036196601 ; accuracy 0.7288833333333333\n",
      "epoch 40 : loss 6.053335398965165 ; accuracy 0.72915\n",
      "epoch 41 : loss 5.999301220781202 ; accuracy 0.7321\n",
      "epoch 42 : loss 5.880522195557398 ; accuracy 0.7334\n",
      "epoch 43 : loss 5.8404517212728875 ; accuracy 0.73565\n",
      "epoch 44 : loss 5.677252289912134 ; accuracy 0.73735\n",
      "epoch 45 : loss 5.539784938922847 ; accuracy 0.7382833333333333\n",
      "epoch 46 : loss 5.3270865211196785 ; accuracy 0.7425166666666667\n",
      "epoch 47 : loss 5.196511211318026 ; accuracy 0.7475833333333334\n",
      "epoch 48 : loss 4.960054165691686 ; accuracy 0.75505\n",
      "epoch 49 : loss 4.71457807400224 ; accuracy 0.76455\n",
      "test loss 4.2686951110272275 ; accuracy 0.784\n"
     ]
    }
   ],
   "source": [
    "train_data, test_data = mnist_dataset()\n",
    "train_label = np.zeros(shape=[train_data[0].shape[0], 10])\n",
    "test_label = np.zeros(shape=[test_data[0].shape[0], 10])\n",
    "train_label[np.arange(train_data[0].shape[0]), np.array(train_data[1])] = 1.\n",
    "test_label[np.arange(test_data[0].shape[0]), np.array(test_data[1])] = 1.\n",
    "\n",
    "for epoch in range(50):\n",
    "    loss, accuracy = train_one_step(model, train_data[0], train_label)\n",
    "    print('epoch', epoch, ': loss', loss, '; accuracy', accuracy)\n",
    "loss, accuracy = test(model, test_data[0], test_label)\n",
    "\n",
    "print('test loss', loss, '; accuracy', accuracy)"
   ]
  }
 ],
 "metadata": {
  "kernelspec": {
   "display_name": "Python 3",
   "language": "python",
   "name": "python3"
  },
  "language_info": {
   "codemirror_mode": {
    "name": "ipython",
    "version": 3
   },
   "file_extension": ".py",
   "mimetype": "text/x-python",
   "name": "python",
   "nbconvert_exporter": "python",
   "pygments_lexer": "ipython3",
   "version": "3.11.7"
  }
 },
 "nbformat": 4,
 "nbformat_minor": 2
}
